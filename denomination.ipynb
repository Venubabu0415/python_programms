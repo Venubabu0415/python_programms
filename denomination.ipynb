{
 "cells": [
  {
   "cell_type": "code",
   "execution_count": 20,
   "id": "7594ebb9-f4ec-459e-8568-c9bfe2969b72",
   "metadata": {},
   "outputs": [
    {
     "name": "stdin",
     "output_type": "stream",
     "text": [
      "enter the amount 2543\n"
     ]
    },
    {
     "name": "stdout",
     "output_type": "stream",
     "text": [
      "five hundreds (500): 5\n",
      "one hundreds (100): 0\n",
      "fifty (00): 0\n",
      "tens(10): 4\n",
      "ones (1): 3\n"
     ]
    }
   ],
   "source": [
    "amount=int(input(\"enter the amount:\"))\n",
    "five_hundred=amount//500\n",
    "remaining_amount=amount%500\n",
    "one_hundred=remaining_amount//100\n",
    "remaining_amount1=remaining_amount%100\n",
    "fifty=remaining_amount1//50\n",
    "remaining_amount2=remaining_amount1%50\n",
    "tens=remaining_amount2//10\n",
    "remaining_amount3=remaining_amount2%10\n",
    "fives=remaining_amount3//5\n",
    "remaining_amount4=remaining_amount3%5\n",
    "ones=remaining_amount4//1\n",
    "remaining_amount5=remaining_amount4%1\n",
    "print(\"five hundreds (500):\",five_hundred)\n",
    "print(\"one hundreds (100):\",one_hundred)\n",
    "print(\"fifty (00):\",fifty)\n",
    "print(\"tens(10):\",tens)\n",
    "print(\"ones (1):\",ones)"
   ]
  },
  {
   "cell_type": "code",
   "execution_count": null,
   "id": "bfcd0ceb-8c76-4029-b755-378216f07a3c",
   "metadata": {},
   "outputs": [],
   "source": []
  }
 ],
 "metadata": {
  "kernelspec": {
   "display_name": "Python [conda env:anaconda3]",
   "language": "python",
   "name": "conda-env-anaconda3-py"
  },
  "language_info": {
   "codemirror_mode": {
    "name": "ipython",
    "version": 3
   },
   "file_extension": ".py",
   "mimetype": "text/x-python",
   "name": "python",
   "nbconvert_exporter": "python",
   "pygments_lexer": "ipython3",
   "version": "3.12.7"
  }
 },
 "nbformat": 4,
 "nbformat_minor": 5
}
