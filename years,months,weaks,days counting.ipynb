{
 "cells": [
  {
   "cell_type": "code",
   "execution_count": 5,
   "id": "d74dfa72-866a-4c8a-8c6f-c19fc530f2f3",
   "metadata": {},
   "outputs": [
    {
     "name": "stdin",
     "output_type": "stream",
     "text": [
      "enter the required days 3\n"
     ]
    },
    {
     "name": "stdout",
     "output_type": "stream",
     "text": [
      "number of years: 0\n",
      "number of months: 0\n",
      "number of weaks: 0\n",
      "number of days: 3\n"
     ]
    }
   ],
   "source": [
    "#number of years,months,weaks,days\n",
    "num_of_days=int(input(\"enter the required days\"))\n",
    "\n",
    "year=num_of_days//365\n",
    "remaining_days=num_of_days%365\n",
    "\n",
    "month=remaining_days//28\n",
    "remaining_days1=remaining_days%28\n",
    "\n",
    "weak=remaining_days1//7\n",
    "remaining_days2=remaining_days%7\n",
    "\n",
    "print('number of years:',year)\n",
    "print('number of months:',month)\n",
    "print('number of weaks:',weak)\n",
    "print('number of days:',remaining_days2)"
   ]
  },
  {
   "cell_type": "code",
   "execution_count": null,
   "id": "5a40f0bf-a3bd-4285-949a-1b7da67de950",
   "metadata": {},
   "outputs": [],
   "source": []
  }
 ],
 "metadata": {
  "kernelspec": {
   "display_name": "Python [conda env:anaconda3]",
   "language": "python",
   "name": "conda-env-anaconda3-py"
  },
  "language_info": {
   "codemirror_mode": {
    "name": "ipython",
    "version": 3
   },
   "file_extension": ".py",
   "mimetype": "text/x-python",
   "name": "python",
   "nbconvert_exporter": "python",
   "pygments_lexer": "ipython3",
   "version": "3.12.7"
  }
 },
 "nbformat": 4,
 "nbformat_minor": 5
}
