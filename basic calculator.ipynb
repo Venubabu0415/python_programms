{
 "cells": [
  {
   "cell_type": "code",
   "execution_count": 17,
   "id": "53b47791-4713-4db0-9356-d27a876f3b65",
   "metadata": {},
   "outputs": [
    {
     "name": "stdin",
     "output_type": "stream",
     "text": [
      "enter a first number: 2\n",
      "operator : !\n",
      "enter a second number: 2\n"
     ]
    },
    {
     "name": "stdout",
     "output_type": "stream",
     "text": [
      "The Result is : please give arthimatic operators as input\n"
     ]
    }
   ],
   "source": [
    "a=int(input(\"enter a first number:\"))\n",
    "operator=input(\"operator :\")\n",
    "b=int(input(\"enter a second number:\"))\n",
    "print(\"The Result is :\",end=\" \")\n",
    "if (operator=='+'):\n",
    "    print(a+b)\n",
    "elif (operator=='-'):\n",
    "     print(a-b)\n",
    "elif (operator=='*'):\n",
    "     print(a*b)\n",
    "elif (operator=='**'):\n",
    "     print(a**b)\n",
    "elif (operator=='%'):\n",
    "     print(a%b)\n",
    "elif (operator=='^'):\n",
    "     print(a^b)\n",
    "elif (operator=='/'):\n",
    "     print(a/b)\n",
    "else:\n",
    "    print(\"please give arthimatic operators as input\")\n",
    "    "
   ]
  },
  {
   "cell_type": "code",
   "execution_count": null,
   "id": "6ec0a47e-94eb-4c2e-9837-fe34e324933f",
   "metadata": {},
   "outputs": [],
   "source": []
  }
 ],
 "metadata": {
  "kernelspec": {
   "display_name": "Python [conda env:anaconda3]",
   "language": "python",
   "name": "conda-env-anaconda3-py"
  },
  "language_info": {
   "codemirror_mode": {
    "name": "ipython",
    "version": 3
   },
   "file_extension": ".py",
   "mimetype": "text/x-python",
   "name": "python",
   "nbconvert_exporter": "python",
   "pygments_lexer": "ipython3",
   "version": "3.12.7"
  }
 },
 "nbformat": 4,
 "nbformat_minor": 5
}
