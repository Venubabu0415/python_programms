{
 "cells": [
  {
   "cell_type": "code",
   "execution_count": 17,
   "id": "833afedf-d2e1-4dfc-9a1f-f2a1c9d57106",
   "metadata": {},
   "outputs": [
    {
     "name": "stdin",
     "output_type": "stream",
     "text": [
      "enter a: 2\n",
      "enter b: 3\n",
      "enter c: 4\n"
     ]
    },
    {
     "name": "stdout",
     "output_type": "stream",
     "text": [
      "a is smaller\n"
     ]
    }
   ],
   "source": [
    "a=int(input('enter a:'))\n",
    "b=int(input('enter b:'))\n",
    "c=int(input('enter c:'))\n",
    "\n",
    "if a<=b and a<=c:\n",
    "    print('a is smaller')\n",
    "elif b<a and b<=c:\n",
    "    print('b is smaller')\n",
    "elif c<a and c<b:\n",
    "    print('c is smaller')"
   ]
  },
  {
   "cell_type": "code",
   "execution_count": null,
   "id": "675d84ff-dae7-4758-b306-fbb214f063cd",
   "metadata": {},
   "outputs": [],
   "source": []
  }
 ],
 "metadata": {
  "kernelspec": {
   "display_name": "Python [conda env:anaconda3]",
   "language": "python",
   "name": "conda-env-anaconda3-py"
  },
  "language_info": {
   "codemirror_mode": {
    "name": "ipython",
    "version": 3
   },
   "file_extension": ".py",
   "mimetype": "text/x-python",
   "name": "python",
   "nbconvert_exporter": "python",
   "pygments_lexer": "ipython3",
   "version": "3.12.7"
  }
 },
 "nbformat": 4,
 "nbformat_minor": 5
}
