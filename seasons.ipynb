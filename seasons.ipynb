{
 "cells": [
  {
   "cell_type": "code",
   "execution_count": 15,
   "id": "b1f1df85-2519-4f55-86eb-2866693fe51f",
   "metadata": {},
   "outputs": [
    {
     "name": "stdin",
     "output_type": "stream",
     "text": [
      "enter the month name or number (1-12): 13\n"
     ]
    },
    {
     "name": "stdout",
     "output_type": "stream",
     "text": [
      "year contain only 12 months\n"
     ]
    }
   ],
   "source": [
    "month=input(\"enter the month name or number (1-12):\")\n",
    "a=['3','4','5','6','march','mar','april','apr','june','may']\n",
    "b=['7','8','9','10','july','jul','august','aug','sep','september']\n",
    "c=['11','12','1','2','january','jan','february','feb','december','dec','november','nov']\n",
    "if month in a:\n",
    "    print(\"summer season,sun is very hot\")\n",
    "if month in b:\n",
    "    print(\"rainy season,weather is full of rain\")\n",
    "if month in c:\n",
    "    print(\"winter season,weather is very cool\")\n",
    "else:\n",
    "    print('year contain only 12 months')"
   ]
  },
  {
   "cell_type": "code",
   "execution_count": null,
   "id": "9fe94ae2-3fb0-4342-99ca-c5a292fbf069",
   "metadata": {},
   "outputs": [],
   "source": []
  }
 ],
 "metadata": {
  "kernelspec": {
   "display_name": "Python [conda env:anaconda3]",
   "language": "python",
   "name": "conda-env-anaconda3-py"
  },
  "language_info": {
   "codemirror_mode": {
    "name": "ipython",
    "version": 3
   },
   "file_extension": ".py",
   "mimetype": "text/x-python",
   "name": "python",
   "nbconvert_exporter": "python",
   "pygments_lexer": "ipython3",
   "version": "3.12.7"
  }
 },
 "nbformat": 4,
 "nbformat_minor": 5
}
