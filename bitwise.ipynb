{
 "cells": [
  {
   "cell_type": "code",
   "execution_count": 13,
   "id": "346e3228-7809-4737-a7cc-a796079b5043",
   "metadata": {},
   "outputs": [
    {
     "name": "stdin",
     "output_type": "stream",
     "text": [
      " 1A0B1A0C0A1\n"
     ]
    },
    {
     "name": "stdout",
     "output_type": "stream",
     "text": [
      "0\n"
     ]
    }
   ],
   "source": [
    "x=list(input())\n",
    "for i in range(len(x)):\n",
    "    if x[i]=='A':\n",
    "        x[i]='&'\n",
    "    if x[i]=='B':\n",
    "        x[i]='|'\n",
    "    if x[i]=='C':\n",
    "        x[i]='^'\n",
    "res=''.join(x)\n",
    "print(eval(res))\n",
    "        \n",
    "         \n",
    "    \n",
    "    "
   ]
  }
 ],
 "metadata": {
  "kernelspec": {
   "display_name": "Python [conda env:anaconda3]",
   "language": "python",
   "name": "conda-env-anaconda3-py"
  },
  "language_info": {
   "codemirror_mode": {
    "name": "ipython",
    "version": 3
   },
   "file_extension": ".py",
   "mimetype": "text/x-python",
   "name": "python",
   "nbconvert_exporter": "python",
   "pygments_lexer": "ipython3",
   "version": "3.12.7"
  }
 },
 "nbformat": 4,
 "nbformat_minor": 5
}
