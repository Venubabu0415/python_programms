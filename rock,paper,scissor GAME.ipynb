{
 "cells": [
  {
   "cell_type": "code",
   "execution_count": 36,
   "id": "04bed8a7-a0f0-4d90-b4ad-117c2317a2a1",
   "metadata": {},
   "outputs": [
    {
     "name": "stdin",
     "output_type": "stream",
     "text": [
      "PLAYER_1 : scissor\n",
      "PLAYER_2 : paper\n"
     ]
    },
    {
     "name": "stdout",
     "output_type": "stream",
     "text": [
      "scissor is won\n"
     ]
    }
   ],
   "source": [
    "# rock,paper,scissors game\n",
    "\n",
    "player_1=input(\"PLAYER_1 :\")\n",
    "player_2=input(\"PLAYER_2 :\")\n",
    "\n",
    "'rock'=='paper'=='scissor'==True\n",
    "\n",
    "if player_1==player_2:\n",
    "    print(\"the game is tie\")\n",
    "\n",
    "if player_1=='rock' and player_2=='paper':\n",
    "    print('paper is won')\n",
    "if player_1=='paper' and player_2=='rock':\n",
    "    print('paper is won')\n",
    "\n",
    "if player_1=='rock' and player_2=='scissor':\n",
    "    print('rock is won')\n",
    "if player_1=='scissor' and player_2=='rock':\n",
    "    print('rock is won')\n",
    "\n",
    "if player_1=='scissor' and player_2=='paper':\n",
    "    print('scissor is won')\n",
    "if player_1=='paper' and player_2=='scissor':\n",
    "    print('scissor is won')\n"
   ]
  },
  {
   "cell_type": "code",
   "execution_count": 40,
   "id": "26e65479-92f9-41b7-8342-d369f929e701",
   "metadata": {},
   "outputs": [
    {
     "name": "stdout",
     "output_type": "stream",
     "text": [
      "venu\n"
     ]
    }
   ],
   "source": [
    "a='venu'\n",
    "b=a[-1::-1]\n",
    "print(a)"
   ]
  },
  {
   "cell_type": "code",
   "execution_count": null,
   "id": "d30a3cce-10c8-4e6c-91d8-9178cacefc99",
   "metadata": {},
   "outputs": [],
   "source": []
  }
 ],
 "metadata": {
  "kernelspec": {
   "display_name": "Python [conda env:anaconda3]",
   "language": "python",
   "name": "conda-env-anaconda3-py"
  },
  "language_info": {
   "codemirror_mode": {
    "name": "ipython",
    "version": 3
   },
   "file_extension": ".py",
   "mimetype": "text/x-python",
   "name": "python",
   "nbconvert_exporter": "python",
   "pygments_lexer": "ipython3",
   "version": "3.12.7"
  }
 },
 "nbformat": 4,
 "nbformat_minor": 5
}
