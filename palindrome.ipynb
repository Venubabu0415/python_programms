{
 "cells": [
  {
   "cell_type": "code",
   "execution_count": 19,
   "id": "d8e84012-6c82-46f0-81de-473295ab21cc",
   "metadata": {},
   "outputs": [
    {
     "name": "stdin",
     "output_type": "stream",
     "text": [
      "enter a string hiih\n"
     ]
    },
    {
     "name": "stdout",
     "output_type": "stream",
     "text": [
      "It is a palindrome word:\n"
     ]
    }
   ],
   "source": [
    "#palindrome program\n",
    "a=input('enter a string')\n",
    "b=a.lower()\n",
    "c=b[-1::-1]\n",
    "if b==c:\n",
    "    print('It is a palindrome word:')\n",
    "else:\n",
    "    print('It is not a palindrome word:')"
   ]
  },
  {
   "cell_type": "code",
   "execution_count": null,
   "id": "5b7177af-ef5d-40fc-8d18-bf79498396b5",
   "metadata": {},
   "outputs": [],
   "source": []
  }
 ],
 "metadata": {
  "kernelspec": {
   "display_name": "Python [conda env:anaconda3]",
   "language": "python",
   "name": "conda-env-anaconda3-py"
  },
  "language_info": {
   "codemirror_mode": {
    "name": "ipython",
    "version": 3
   },
   "file_extension": ".py",
   "mimetype": "text/x-python",
   "name": "python",
   "nbconvert_exporter": "python",
   "pygments_lexer": "ipython3",
   "version": "3.12.7"
  }
 },
 "nbformat": 4,
 "nbformat_minor": 5
}
