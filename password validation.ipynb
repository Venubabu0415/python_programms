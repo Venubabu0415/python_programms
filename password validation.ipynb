{
 "cells": [
  {
   "cell_type": "code",
   "execution_count": 25,
   "id": "67b2a97a-254a-4dbc-ba0e-5eeca5dbe244",
   "metadata": {},
   "outputs": [
    {
     "name": "stdin",
     "output_type": "stream",
     "text": [
      "enter the 8 character password: Venu&123\n"
     ]
    },
    {
     "name": "stdout",
     "output_type": "stream",
     "text": [
      " your correct thats a valid password\n"
     ]
    }
   ],
   "source": [
    "password=input(\"enter the 8 character password:\")\n",
    "special_character=['!','@','#','$','%','&','*','^','(',')','_','-','+','<','>','?']\n",
    "l=len(password)\n",
    "if l < 8:\n",
    "    print('enter valid password that contains min 8 characters')\n",
    "digit=lower=upper=special=False\n",
    "for i in password:\n",
    "    if i.isdigit():\n",
    "        digit=True\n",
    "    if i.islower():\n",
    "        lower=True\n",
    "    if i.isupper():\n",
    "         upper=True\n",
    "    if i in special_character:\n",
    "         special=True\n",
    "if digit and lower and upper and special:\n",
    "    print(\" your correct thats a valid password\")\n",
    "else:\n",
    "    print(\"invalid password\")\n",
    "    print(\"that contains!\")\n",
    "    print(\"min one digit\")\n",
    "    print(\"min one lowercase letter\")\n",
    "    print(\"min one uppercase letter\")\n",
    "    print(\"special symbol\")"
   ]
  },
  {
   "cell_type": "code",
   "execution_count": null,
   "id": "61cb14c4-79b8-4f37-a171-fe5c31189430",
   "metadata": {},
   "outputs": [],
   "source": []
  }
 ],
 "metadata": {
  "kernelspec": {
   "display_name": "Python [conda env:anaconda3]",
   "language": "python",
   "name": "conda-env-anaconda3-py"
  },
  "language_info": {
   "codemirror_mode": {
    "name": "ipython",
    "version": 3
   },
   "file_extension": ".py",
   "mimetype": "text/x-python",
   "name": "python",
   "nbconvert_exporter": "python",
   "pygments_lexer": "ipython3",
   "version": "3.12.7"
  }
 },
 "nbformat": 4,
 "nbformat_minor": 5
}
